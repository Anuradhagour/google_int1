{
 "cells": [
  {
   "cell_type": "code",
   "execution_count": 8,
   "metadata": {},
   "outputs": [
    {
     "name": "stdout",
     "output_type": "stream",
     "text": [
      "Defaulting to user installation because normal site-packages is not writeable\n",
      "Requirement already satisfied: pandas in c:\\users\\lenovo\\appdata\\local\\packages\\pythonsoftwarefoundation.python.3.12_qbz5n2kfra8p0\\localcache\\local-packages\\python312\\site-packages (2.2.3)\n",
      "Requirement already satisfied: numpy>=1.26.0 in c:\\users\\lenovo\\appdata\\local\\packages\\pythonsoftwarefoundation.python.3.12_qbz5n2kfra8p0\\localcache\\local-packages\\python312\\site-packages (from pandas) (2.2.4)\n",
      "Requirement already satisfied: python-dateutil>=2.8.2 in c:\\users\\lenovo\\appdata\\local\\packages\\pythonsoftwarefoundation.python.3.12_qbz5n2kfra8p0\\localcache\\local-packages\\python312\\site-packages (from pandas) (2.9.0.post0)\n",
      "Requirement already satisfied: pytz>=2020.1 in c:\\users\\lenovo\\appdata\\local\\packages\\pythonsoftwarefoundation.python.3.12_qbz5n2kfra8p0\\localcache\\local-packages\\python312\\site-packages (from pandas) (2025.2)\n",
      "Requirement already satisfied: tzdata>=2022.7 in c:\\users\\lenovo\\appdata\\local\\packages\\pythonsoftwarefoundation.python.3.12_qbz5n2kfra8p0\\localcache\\local-packages\\python312\\site-packages (from pandas) (2025.2)\n",
      "Requirement already satisfied: six>=1.5 in c:\\users\\lenovo\\appdata\\local\\packages\\pythonsoftwarefoundation.python.3.12_qbz5n2kfra8p0\\localcache\\local-packages\\python312\\site-packages (from python-dateutil>=2.8.2->pandas) (1.17.0)\n",
      "Note: you may need to restart the kernel to use updated packages.\n"
     ]
    },
    {
     "name": "stderr",
     "output_type": "stream",
     "text": [
      "\n",
      "[notice] A new release of pip is available: 24.3.1 -> 25.0.1\n",
      "[notice] To update, run: C:\\Users\\Lenovo\\AppData\\Local\\Microsoft\\WindowsApps\\PythonSoftwareFoundation.Python.3.12_qbz5n2kfra8p0\\python.exe -m pip install --upgrade pip\n"
     ]
    }
   ],
   "source": [
    "pip install pandas\n"
   ]
  },
  {
   "cell_type": "code",
   "execution_count": 9,
   "metadata": {},
   "outputs": [
    {
     "name": "stdout",
     "output_type": "stream",
     "text": [
      "Defaulting to user installation because normal site-packages is not writeable\n",
      "Requirement already satisfied: matplotlib in c:\\users\\lenovo\\appdata\\local\\packages\\pythonsoftwarefoundation.python.3.12_qbz5n2kfra8p0\\localcache\\local-packages\\python312\\site-packages (3.10.1)\n",
      "Requirement already satisfied: contourpy>=1.0.1 in c:\\users\\lenovo\\appdata\\local\\packages\\pythonsoftwarefoundation.python.3.12_qbz5n2kfra8p0\\localcache\\local-packages\\python312\\site-packages (from matplotlib) (1.3.1)\n",
      "Requirement already satisfied: cycler>=0.10 in c:\\users\\lenovo\\appdata\\local\\packages\\pythonsoftwarefoundation.python.3.12_qbz5n2kfra8p0\\localcache\\local-packages\\python312\\site-packages (from matplotlib) (0.12.1)\n",
      "Requirement already satisfied: fonttools>=4.22.0 in c:\\users\\lenovo\\appdata\\local\\packages\\pythonsoftwarefoundation.python.3.12_qbz5n2kfra8p0\\localcache\\local-packages\\python312\\site-packages (from matplotlib) (4.56.0)\n",
      "Requirement already satisfied: kiwisolver>=1.3.1 in c:\\users\\lenovo\\appdata\\local\\packages\\pythonsoftwarefoundation.python.3.12_qbz5n2kfra8p0\\localcache\\local-packages\\python312\\site-packages (from matplotlib) (1.4.8)\n",
      "Requirement already satisfied: numpy>=1.23 in c:\\users\\lenovo\\appdata\\local\\packages\\pythonsoftwarefoundation.python.3.12_qbz5n2kfra8p0\\localcache\\local-packages\\python312\\site-packages (from matplotlib) (2.2.4)\n",
      "Requirement already satisfied: packaging>=20.0 in c:\\users\\lenovo\\appdata\\local\\packages\\pythonsoftwarefoundation.python.3.12_qbz5n2kfra8p0\\localcache\\local-packages\\python312\\site-packages (from matplotlib) (24.2)\n",
      "Requirement already satisfied: pillow>=8 in c:\\users\\lenovo\\appdata\\local\\packages\\pythonsoftwarefoundation.python.3.12_qbz5n2kfra8p0\\localcache\\local-packages\\python312\\site-packages (from matplotlib) (11.1.0)\n",
      "Requirement already satisfied: pyparsing>=2.3.1 in c:\\users\\lenovo\\appdata\\local\\packages\\pythonsoftwarefoundation.python.3.12_qbz5n2kfra8p0\\localcache\\local-packages\\python312\\site-packages (from matplotlib) (3.2.3)\n",
      "Requirement already satisfied: python-dateutil>=2.7 in c:\\users\\lenovo\\appdata\\local\\packages\\pythonsoftwarefoundation.python.3.12_qbz5n2kfra8p0\\localcache\\local-packages\\python312\\site-packages (from matplotlib) (2.9.0.post0)\n",
      "Requirement already satisfied: six>=1.5 in c:\\users\\lenovo\\appdata\\local\\packages\\pythonsoftwarefoundation.python.3.12_qbz5n2kfra8p0\\localcache\\local-packages\\python312\\site-packages (from python-dateutil>=2.7->matplotlib) (1.17.0)\n",
      "Note: you may need to restart the kernel to use updated packages.\n"
     ]
    },
    {
     "name": "stderr",
     "output_type": "stream",
     "text": [
      "\n",
      "[notice] A new release of pip is available: 24.3.1 -> 25.0.1\n",
      "[notice] To update, run: C:\\Users\\Lenovo\\AppData\\Local\\Microsoft\\WindowsApps\\PythonSoftwareFoundation.Python.3.12_qbz5n2kfra8p0\\python.exe -m pip install --upgrade pip\n"
     ]
    }
   ],
   "source": [
    "pip install matplotlib"
   ]
  },
  {
   "cell_type": "code",
   "execution_count": 10,
   "metadata": {},
   "outputs": [],
   "source": [
    "import pandas as pd\n",
    "import numpy as np\n",
    "import matplotlib.pyplot as plt\n",
    "import datetime\n",
    "import pytz"
   ]
  },
  {
   "cell_type": "code",
   "execution_count": 11,
   "metadata": {},
   "outputs": [],
   "source": [
    "# Load dataset\n",
    "file_path = r\"C:\\Users\\Lenovo\\Desktop\\NULL CLASS\\Play Store Data.csv\"\n",
    "df = pd.read_csv(file_path)"
   ]
  },
  {
   "cell_type": "code",
   "execution_count": 13,
   "metadata": {},
   "outputs": [],
   "source": [
    "# Data Cleaning\n",
    "# Convert 'Installs' to numeric (remove ',' and '+')\n",
    "df[\"Installs\"] = df[\"Installs\"].astype(str).str.extract(r'(\\d+)')  # Extract numeric part\n",
    "df[\"Installs\"] = pd.to_numeric(df[\"Installs\"], errors='coerce')  # Convert to numeric"
   ]
  },
  {
   "cell_type": "code",
   "execution_count": 14,
   "metadata": {},
   "outputs": [],
   "source": [
    "# Convert 'Size' to numeric (remove 'M', ignore 'Varies with device')\n",
    "df[\"Size\"] = df[\"Size\"].astype(str).apply(lambda x: float(x.replace(\"M\", \"\")) if \"M\" in x else np.nan)\n",
    "df.dropna(subset=[\"Size\"], inplace=True)"
   ]
  },
  {
   "cell_type": "code",
   "execution_count": 15,
   "metadata": {},
   "outputs": [],
   "source": [
    "# Convert 'Price' to numeric (remove '$')\n",
    "df[\"Price\"] = df[\"Price\"].astype(str).str.replace(\"$\", \"\", regex=False)\n",
    "df[\"Price\"] = pd.to_numeric(df[\"Price\"], errors='coerce').fillna(0)"
   ]
  },
  {
   "cell_type": "code",
   "execution_count": 16,
   "metadata": {},
   "outputs": [],
   "source": [
    "# Convert 'Android Ver' to numeric (extract the first numeric part)\n",
    "df[\"Android Ver\"] = df[\"Android Ver\"].astype(str).str.extract(r\"(\\d+\\.\\d+)\").astype(float)"
   ]
  },
  {
   "cell_type": "code",
   "execution_count": 17,
   "metadata": {},
   "outputs": [],
   "source": [
    "# Apply Filters\n",
    "df_filtered = df[\n",
    "    (df[\"Installs\"] >= 10000) &\n",
    "    ((df[\"Price\"] * df[\"Installs\"] >= 10000) | (df[\"Type\"] == \"Free\")) &\n",
    "    (df[\"Android Ver\"] > 4.0) &\n",
    "    (df[\"Size\"] > 15) &\n",
    "    (df[\"Content Rating\"] == \"Everyone\") &\n",
    "    (df[\"App\"].str.len() <= 30)\n",
    "]"
   ]
  },
  {
   "cell_type": "code",
   "execution_count": 28,
   "metadata": {},
   "outputs": [
    {
     "name": "stdout",
     "output_type": "stream",
     "text": [
      "Empty DataFrame\n",
      "Columns: [App, Category, Rating, Reviews, Size, Installs, Type, Price, Content Rating, Genres, Last Updated, Current Ver, Android Ver]\n",
      "Index: []\n"
     ]
    }
   ],
   "source": [
    "print(df_filtered.head())"
   ]
  },
  {
   "cell_type": "code",
   "execution_count": 18,
   "metadata": {},
   "outputs": [],
   "source": [
    "# Get Top 3 Categories\n",
    "top_categories = df_filtered[\"Category\"].value_counts().nlargest(3).index"
   ]
  },
  {
   "cell_type": "code",
   "execution_count": 19,
   "metadata": {},
   "outputs": [],
   "source": [
    "# Filter Data for Top Categories\n",
    "df_top = df_filtered[df_filtered[\"Category\"].isin(top_categories)]"
   ]
  },
  {
   "cell_type": "code",
   "execution_count": 20,
   "metadata": {},
   "outputs": [],
   "source": [
    "# Aggregate Data\n",
    "category_stats = df_top.groupby([\"Category\", \"Type\"]).agg(\n",
    "    avg_installs=(\"Installs\", \"mean\"),\n",
    "    avg_revenue=(\"Price\", \"sum\")\n",
    ").reset_index()"
   ]
  },
  {
   "cell_type": "code",
   "execution_count": 21,
   "metadata": {},
   "outputs": [
    {
     "name": "stdout",
     "output_type": "stream",
     "text": [
      "Current IST time: 2025-04-03 08:42:17\n"
     ]
    }
   ],
   "source": [
    "ist = pytz.timezone(\"Asia/Kolkata\")##for current time \n",
    "current_time = datetime.datetime.now(ist)  # Ensure it's properly fetched\n",
    "print(f\"Current IST time: {current_time.strftime('%Y-%m-%d %H:%M:%S')}\")\n"
   ]
  },
  {
   "cell_type": "code",
   "execution_count": 22,
   "metadata": {},
   "outputs": [
    {
     "name": "stdout",
     "output_type": "stream",
     "text": [
      "Chart is only available between 1 PM and 2 PM IST.\n"
     ]
    }
   ],
   "source": [
    "if not (13 <= current_time.hour < 14):\n",
    "    print(\"Chart is only available between 1 PM and 2 PM IST.\")\n",
    "else:\n",
    "    # Plot Dual-Axis Chart\n",
    "    fig, ax1 = plt.subplots()\n",
    "    ax2 = ax1.twinx()\n",
    "\n",
    "    for category in top_categories:\n",
    "        df_cat = category_stats[category_stats[\"Category\"] == category]\n",
    "        ax1.bar(df_cat[\"Type\"], df_cat[\"avg_installs\"], alpha=0.6, label=f'{category} Installs')\n",
    "        ax2.plot(df_cat[\"Type\"], df_cat[\"avg_revenue\"], marker='o', linestyle='-', label=f'{category} Revenue')\n",
    "\n",
    "    ax1.set_xlabel(\"App Type (Free vs Paid)\")\n",
    "    ax1.set_ylabel(\"Average Installs\", color='b')\n",
    "    ax2.set_ylabel(\"Average Revenue ($)\", color='r')\n",
    "    ax1.set_title(\"Comparison of Avg Installs and Revenue for Top App Categories\")\n",
    "    ax1.legend(loc='upper left')\n",
    "    ax2.legend(loc='upper right')\n",
    "\n",
    "    plt.show()\n"
   ]
  },
  {
   "cell_type": "markdown",
   "metadata": {},
   "source": [
    "ANALYSIS"
   ]
  },
  {
   "cell_type": "code",
   "execution_count": null,
   "metadata": {},
   "outputs": [
    {
     "data": {
      "text/plain": [
       "'Analysis of the Task\\nThe task aims to generate a dual-axis chart comparing average installs and average revenue for free vs. paid apps within the top 3 app categories, with strict filtering conditions.\\n\\n1. Data Cleaning & Transformation\\nInstalls: Converted to numeric format by extracting digits.\\n\\nSize: Converted to numeric, excluding apps where size varies.\\n\\nPrice: Converted to numeric after removing the \"$\" symbol.\\n\\nAndroid Version: Extracted the numeric part for proper filtering.\\n\\n2. Filtering Conditions\\nThe dataset was filtered to meet the following strict criteria:\\n\\nMinimum 10,000 installs.\\n\\nRevenue must be ≥ $10,000 (for paid apps) or the app must be free.\\n\\nAndroid version > 4.0.\\n\\nApp size > 15 MB.\\n\\nContent rating should be \"Everyone\".\\n\\nApp name length ≤ 30 characters (including spaces and special characters).\\n\\n3. Identifying Top 3 Categories\\nThe script determines the top 3 app categories based on the highest number of apps.\\n\\nData is grouped by Category and Type (Free vs. Paid) to compute:\\n\\nAverage installs\\n\\nTotal revenue for each category-type combination.\\n\\n4. Time-Based Restriction\\nThe chart is only displayed between 1 PM - 2 PM IST.\\n\\nIf executed outside this window, it prints a message instead of showing the graph.\\n\\n5. Visualization\\nDual-axis Chart:\\n\\nBar chart (left axis) → Represents average installs.\\n\\nLine plot (right axis) → Represents total revenue.\\n\\nX-axis: Free vs. Paid apps.\\n\\nY1-axis (left): Average installs (blue).\\n\\nY2-axis (right): Total revenue in dollars (red).\\n\\nLegend Placement:\\n\\nInstalls (upper left).\\n\\nRevenue (upper right).\\n\\n6. Possible Limitations & Improvements\\n✅ Strengths:\\n\\nEnsures data quality by applying strict filters.\\n\\nUses a time-based restriction to control dashboard visibility.\\n\\nDisplays dual insights (installs vs. revenue) in one chart.\\n\\n⚠️ Potential Limitations:\\n\\nFiltering out apps may result in data sparsity if few apps meet all conditions.\\n\\nRevenue is calculated as Price × Installs, but some paid apps may have discounts or in-app purchases affecting actual revenue.\\n\\nTime restriction may limit analysis availability for users in different time zones.\\n\\n🚀 Improvements:\\n\\nIntroduce more granular price segmentation instead of a binary free/paid classification.\\n\\nAllow an admin override to bypass time restrictions for analysis.\\n\\nConsider including app ratings or reviews to analyze user engagement.'"
      ]
     },
     "execution_count": 25,
     "metadata": {},
     "output_type": "execute_result"
    }
   ],
   "source": [
    "\n",
    "# 1. Data Cleaning & Transformation\n",
    "# Installs: Converted to numeric format by extracting digits.\n",
    "\n",
    "# Size: Converted to numeric, excluding apps where size varies.\n",
    "\n",
    "# Price: Converted to numeric after removing the \"$\" symbol.\n",
    "\n",
    "# Android Version: Extracted the numeric part for proper filtering.\n",
    "\n",
    "# 2. Filtering Conditions\n",
    "# The dataset was filtered to meet the following strict criteria:\n",
    "\n",
    "# Minimum 10,000 installs.\n",
    "\n",
    "# Revenue must be ≥ $10,000 (for paid apps) or the app must be free.\n",
    "\n",
    "# Android version > 4.0.\n",
    "\n",
    "# App size > 15 MB.\n",
    "\n",
    "# Content rating should be \"Everyone\".\n",
    "\n",
    "# App name length ≤ 30 characters (including spaces and special characters).\n",
    "\n",
    "# 3. Identifying Top 3 Categories\n",
    "# The script determines the top 3 app categories based on the highest number of apps.\n",
    "\n",
    "# Data is grouped by Category and Type (Free vs. Paid) to compute:\n",
    "\n",
    "# Average installs\n",
    "\n",
    "# Total revenue for each category-type combination.\n",
    "\n",
    "# 4. Time-Based Restriction\n",
    "# The chart is only displayed between 1 PM - 2 PM IST.\n",
    "\n",
    "# If executed outside this window, it prints a message instead of showing the graph.\n",
    "\n",
    "# 5. Visualization\n",
    "# Dual-axis Chart:\n",
    "\n",
    "# Bar chart (left axis) → Represents average installs.\n",
    "\n",
    "# Line plot (right axis) → Represents total revenue.\n",
    "\n",
    "# X-axis: Free vs. Paid apps.\n",
    "\n",
    "# Y1-axis (left): Average installs (blue).\n",
    "\n",
    "# Y2-axis (right): Total revenue in dollars (red).\n",
    "\n",
    "# Legend Placement:\n",
    "\n",
    "# Installs (upper left).\n",
    "\n",
    "# Revenue (upper right).\n"
   ]
  },
  {
   "cell_type": "code",
   "execution_count": null,
   "metadata": {},
   "outputs": [],
   "source": []
  },
  {
   "cell_type": "code",
   "execution_count": null,
   "metadata": {},
   "outputs": [],
   "source": []
  }
 ],
 "metadata": {
  "kernelspec": {
   "display_name": "Python 3",
   "language": "python",
   "name": "python3"
  },
  "language_info": {
   "codemirror_mode": {
    "name": "ipython",
    "version": 3
   },
   "file_extension": ".py",
   "mimetype": "text/x-python",
   "name": "python",
   "nbconvert_exporter": "python",
   "pygments_lexer": "ipython3",
   "version": "3.12.9"
  }
 },
 "nbformat": 4,
 "nbformat_minor": 2
}
